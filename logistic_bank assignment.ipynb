{
 "cells": [
  {
   "cell_type": "code",
   "execution_count": 60,
   "id": "2af6e5e9",
   "metadata": {
    "ExecuteTime": {
     "end_time": "2022-08-06T15:28:52.798395Z",
     "start_time": "2022-08-06T15:28:52.791683Z"
    }
   },
   "outputs": [],
   "source": [
    "#importing libraries\n",
    "import pandas as pd\n",
    "import numpy as np\n",
    "import matplotlib.pyplot as plt\n",
    "import seaborn as sns\n",
    "from sklearn.preprocessing import StandardScaler\n",
    "from sklearn.linear_model import LogisticRegression\n",
    "from sklearn.model_selection import train_test_split\n",
    "from sklearn.metrics import classification_report,accuracy_score,confusion_matrix,roc_auc_score,roc_curve\n",
    "\n",
    "import warnings\n",
    "warnings.filterwarnings(\"ignore\")"
   ]
  },
  {
   "cell_type": "markdown",
   "id": "49116043",
   "metadata": {},
   "source": [
    "### Reading Dataset"
   ]
  },
  {
   "cell_type": "code",
   "execution_count": 6,
   "id": "b4f40675",
   "metadata": {
    "ExecuteTime": {
     "end_time": "2022-08-06T14:37:06.048032Z",
     "start_time": "2022-08-06T14:37:05.934748Z"
    }
   },
   "outputs": [],
   "source": [
    "#uploading dataset\n",
    "bank = pd.read_csv(\"bank-full.csv\",sep=\";\")"
   ]
  },
  {
   "cell_type": "code",
   "execution_count": 7,
   "id": "04d1925b",
   "metadata": {
    "ExecuteTime": {
     "end_time": "2022-08-06T14:37:06.461246Z",
     "start_time": "2022-08-06T14:37:06.435539Z"
    }
   },
   "outputs": [
    {
     "data": {
      "text/html": [
       "<div>\n",
       "<style scoped>\n",
       "    .dataframe tbody tr th:only-of-type {\n",
       "        vertical-align: middle;\n",
       "    }\n",
       "\n",
       "    .dataframe tbody tr th {\n",
       "        vertical-align: top;\n",
       "    }\n",
       "\n",
       "    .dataframe thead th {\n",
       "        text-align: right;\n",
       "    }\n",
       "</style>\n",
       "<table border=\"1\" class=\"dataframe\">\n",
       "  <thead>\n",
       "    <tr style=\"text-align: right;\">\n",
       "      <th></th>\n",
       "      <th>age</th>\n",
       "      <th>job</th>\n",
       "      <th>marital</th>\n",
       "      <th>education</th>\n",
       "      <th>default</th>\n",
       "      <th>balance</th>\n",
       "      <th>housing</th>\n",
       "      <th>loan</th>\n",
       "      <th>contact</th>\n",
       "      <th>day</th>\n",
       "      <th>month</th>\n",
       "      <th>duration</th>\n",
       "      <th>campaign</th>\n",
       "      <th>pdays</th>\n",
       "      <th>previous</th>\n",
       "      <th>poutcome</th>\n",
       "      <th>y</th>\n",
       "    </tr>\n",
       "  </thead>\n",
       "  <tbody>\n",
       "    <tr>\n",
       "      <th>0</th>\n",
       "      <td>58</td>\n",
       "      <td>management</td>\n",
       "      <td>married</td>\n",
       "      <td>tertiary</td>\n",
       "      <td>no</td>\n",
       "      <td>2143</td>\n",
       "      <td>yes</td>\n",
       "      <td>no</td>\n",
       "      <td>unknown</td>\n",
       "      <td>5</td>\n",
       "      <td>may</td>\n",
       "      <td>261</td>\n",
       "      <td>1</td>\n",
       "      <td>-1</td>\n",
       "      <td>0</td>\n",
       "      <td>unknown</td>\n",
       "      <td>no</td>\n",
       "    </tr>\n",
       "    <tr>\n",
       "      <th>1</th>\n",
       "      <td>44</td>\n",
       "      <td>technician</td>\n",
       "      <td>single</td>\n",
       "      <td>secondary</td>\n",
       "      <td>no</td>\n",
       "      <td>29</td>\n",
       "      <td>yes</td>\n",
       "      <td>no</td>\n",
       "      <td>unknown</td>\n",
       "      <td>5</td>\n",
       "      <td>may</td>\n",
       "      <td>151</td>\n",
       "      <td>1</td>\n",
       "      <td>-1</td>\n",
       "      <td>0</td>\n",
       "      <td>unknown</td>\n",
       "      <td>no</td>\n",
       "    </tr>\n",
       "    <tr>\n",
       "      <th>2</th>\n",
       "      <td>33</td>\n",
       "      <td>entrepreneur</td>\n",
       "      <td>married</td>\n",
       "      <td>secondary</td>\n",
       "      <td>no</td>\n",
       "      <td>2</td>\n",
       "      <td>yes</td>\n",
       "      <td>yes</td>\n",
       "      <td>unknown</td>\n",
       "      <td>5</td>\n",
       "      <td>may</td>\n",
       "      <td>76</td>\n",
       "      <td>1</td>\n",
       "      <td>-1</td>\n",
       "      <td>0</td>\n",
       "      <td>unknown</td>\n",
       "      <td>no</td>\n",
       "    </tr>\n",
       "    <tr>\n",
       "      <th>3</th>\n",
       "      <td>47</td>\n",
       "      <td>blue-collar</td>\n",
       "      <td>married</td>\n",
       "      <td>unknown</td>\n",
       "      <td>no</td>\n",
       "      <td>1506</td>\n",
       "      <td>yes</td>\n",
       "      <td>no</td>\n",
       "      <td>unknown</td>\n",
       "      <td>5</td>\n",
       "      <td>may</td>\n",
       "      <td>92</td>\n",
       "      <td>1</td>\n",
       "      <td>-1</td>\n",
       "      <td>0</td>\n",
       "      <td>unknown</td>\n",
       "      <td>no</td>\n",
       "    </tr>\n",
       "    <tr>\n",
       "      <th>4</th>\n",
       "      <td>33</td>\n",
       "      <td>unknown</td>\n",
       "      <td>single</td>\n",
       "      <td>unknown</td>\n",
       "      <td>no</td>\n",
       "      <td>1</td>\n",
       "      <td>no</td>\n",
       "      <td>no</td>\n",
       "      <td>unknown</td>\n",
       "      <td>5</td>\n",
       "      <td>may</td>\n",
       "      <td>198</td>\n",
       "      <td>1</td>\n",
       "      <td>-1</td>\n",
       "      <td>0</td>\n",
       "      <td>unknown</td>\n",
       "      <td>no</td>\n",
       "    </tr>\n",
       "  </tbody>\n",
       "</table>\n",
       "</div>"
      ],
      "text/plain": [
       "   age           job  marital  education default  balance housing loan  \\\n",
       "0   58    management  married   tertiary      no     2143     yes   no   \n",
       "1   44    technician   single  secondary      no       29     yes   no   \n",
       "2   33  entrepreneur  married  secondary      no        2     yes  yes   \n",
       "3   47   blue-collar  married    unknown      no     1506     yes   no   \n",
       "4   33       unknown   single    unknown      no        1      no   no   \n",
       "\n",
       "   contact  day month  duration  campaign  pdays  previous poutcome   y  \n",
       "0  unknown    5   may       261         1     -1         0  unknown  no  \n",
       "1  unknown    5   may       151         1     -1         0  unknown  no  \n",
       "2  unknown    5   may        76         1     -1         0  unknown  no  \n",
       "3  unknown    5   may        92         1     -1         0  unknown  no  \n",
       "4  unknown    5   may       198         1     -1         0  unknown  no  "
      ]
     },
     "execution_count": 7,
     "metadata": {},
     "output_type": "execute_result"
    }
   ],
   "source": [
    "bank.head()"
   ]
  },
  {
   "cell_type": "markdown",
   "id": "1412497e",
   "metadata": {},
   "source": [
    "#### EDA"
   ]
  },
  {
   "cell_type": "code",
   "execution_count": 8,
   "id": "5afae053",
   "metadata": {
    "ExecuteTime": {
     "end_time": "2022-08-06T14:37:08.454501Z",
     "start_time": "2022-08-06T14:37:08.412121Z"
    }
   },
   "outputs": [
    {
     "name": "stdout",
     "output_type": "stream",
     "text": [
      "<class 'pandas.core.frame.DataFrame'>\n",
      "RangeIndex: 45211 entries, 0 to 45210\n",
      "Data columns (total 17 columns):\n",
      " #   Column     Non-Null Count  Dtype \n",
      "---  ------     --------------  ----- \n",
      " 0   age        45211 non-null  int64 \n",
      " 1   job        45211 non-null  object\n",
      " 2   marital    45211 non-null  object\n",
      " 3   education  45211 non-null  object\n",
      " 4   default    45211 non-null  object\n",
      " 5   balance    45211 non-null  int64 \n",
      " 6   housing    45211 non-null  object\n",
      " 7   loan       45211 non-null  object\n",
      " 8   contact    45211 non-null  object\n",
      " 9   day        45211 non-null  int64 \n",
      " 10  month      45211 non-null  object\n",
      " 11  duration   45211 non-null  int64 \n",
      " 12  campaign   45211 non-null  int64 \n",
      " 13  pdays      45211 non-null  int64 \n",
      " 14  previous   45211 non-null  int64 \n",
      " 15  poutcome   45211 non-null  object\n",
      " 16  y          45211 non-null  object\n",
      "dtypes: int64(7), object(10)\n",
      "memory usage: 5.9+ MB\n"
     ]
    }
   ],
   "source": [
    "bank.info()"
   ]
  },
  {
   "cell_type": "code",
   "execution_count": 9,
   "id": "523a8da2",
   "metadata": {
    "ExecuteTime": {
     "end_time": "2022-08-06T14:37:09.555618Z",
     "start_time": "2022-08-06T14:37:09.502699Z"
    }
   },
   "outputs": [
    {
     "data": {
      "text/html": [
       "<div>\n",
       "<style scoped>\n",
       "    .dataframe tbody tr th:only-of-type {\n",
       "        vertical-align: middle;\n",
       "    }\n",
       "\n",
       "    .dataframe tbody tr th {\n",
       "        vertical-align: top;\n",
       "    }\n",
       "\n",
       "    .dataframe thead th {\n",
       "        text-align: right;\n",
       "    }\n",
       "</style>\n",
       "<table border=\"1\" class=\"dataframe\">\n",
       "  <thead>\n",
       "    <tr style=\"text-align: right;\">\n",
       "      <th></th>\n",
       "      <th>age</th>\n",
       "      <th>balance</th>\n",
       "      <th>day</th>\n",
       "      <th>duration</th>\n",
       "      <th>campaign</th>\n",
       "      <th>pdays</th>\n",
       "      <th>previous</th>\n",
       "    </tr>\n",
       "  </thead>\n",
       "  <tbody>\n",
       "    <tr>\n",
       "      <th>count</th>\n",
       "      <td>45211.000000</td>\n",
       "      <td>45211.000000</td>\n",
       "      <td>45211.000000</td>\n",
       "      <td>45211.000000</td>\n",
       "      <td>45211.000000</td>\n",
       "      <td>45211.000000</td>\n",
       "      <td>45211.000000</td>\n",
       "    </tr>\n",
       "    <tr>\n",
       "      <th>mean</th>\n",
       "      <td>40.936210</td>\n",
       "      <td>1362.272058</td>\n",
       "      <td>15.806419</td>\n",
       "      <td>258.163080</td>\n",
       "      <td>2.763841</td>\n",
       "      <td>40.197828</td>\n",
       "      <td>0.580323</td>\n",
       "    </tr>\n",
       "    <tr>\n",
       "      <th>std</th>\n",
       "      <td>10.618762</td>\n",
       "      <td>3044.765829</td>\n",
       "      <td>8.322476</td>\n",
       "      <td>257.527812</td>\n",
       "      <td>3.098021</td>\n",
       "      <td>100.128746</td>\n",
       "      <td>2.303441</td>\n",
       "    </tr>\n",
       "    <tr>\n",
       "      <th>min</th>\n",
       "      <td>18.000000</td>\n",
       "      <td>-8019.000000</td>\n",
       "      <td>1.000000</td>\n",
       "      <td>0.000000</td>\n",
       "      <td>1.000000</td>\n",
       "      <td>-1.000000</td>\n",
       "      <td>0.000000</td>\n",
       "    </tr>\n",
       "    <tr>\n",
       "      <th>25%</th>\n",
       "      <td>33.000000</td>\n",
       "      <td>72.000000</td>\n",
       "      <td>8.000000</td>\n",
       "      <td>103.000000</td>\n",
       "      <td>1.000000</td>\n",
       "      <td>-1.000000</td>\n",
       "      <td>0.000000</td>\n",
       "    </tr>\n",
       "    <tr>\n",
       "      <th>50%</th>\n",
       "      <td>39.000000</td>\n",
       "      <td>448.000000</td>\n",
       "      <td>16.000000</td>\n",
       "      <td>180.000000</td>\n",
       "      <td>2.000000</td>\n",
       "      <td>-1.000000</td>\n",
       "      <td>0.000000</td>\n",
       "    </tr>\n",
       "    <tr>\n",
       "      <th>75%</th>\n",
       "      <td>48.000000</td>\n",
       "      <td>1428.000000</td>\n",
       "      <td>21.000000</td>\n",
       "      <td>319.000000</td>\n",
       "      <td>3.000000</td>\n",
       "      <td>-1.000000</td>\n",
       "      <td>0.000000</td>\n",
       "    </tr>\n",
       "    <tr>\n",
       "      <th>max</th>\n",
       "      <td>95.000000</td>\n",
       "      <td>102127.000000</td>\n",
       "      <td>31.000000</td>\n",
       "      <td>4918.000000</td>\n",
       "      <td>63.000000</td>\n",
       "      <td>871.000000</td>\n",
       "      <td>275.000000</td>\n",
       "    </tr>\n",
       "  </tbody>\n",
       "</table>\n",
       "</div>"
      ],
      "text/plain": [
       "                age        balance           day      duration      campaign  \\\n",
       "count  45211.000000   45211.000000  45211.000000  45211.000000  45211.000000   \n",
       "mean      40.936210    1362.272058     15.806419    258.163080      2.763841   \n",
       "std       10.618762    3044.765829      8.322476    257.527812      3.098021   \n",
       "min       18.000000   -8019.000000      1.000000      0.000000      1.000000   \n",
       "25%       33.000000      72.000000      8.000000    103.000000      1.000000   \n",
       "50%       39.000000     448.000000     16.000000    180.000000      2.000000   \n",
       "75%       48.000000    1428.000000     21.000000    319.000000      3.000000   \n",
       "max       95.000000  102127.000000     31.000000   4918.000000     63.000000   \n",
       "\n",
       "              pdays      previous  \n",
       "count  45211.000000  45211.000000  \n",
       "mean      40.197828      0.580323  \n",
       "std      100.128746      2.303441  \n",
       "min       -1.000000      0.000000  \n",
       "25%       -1.000000      0.000000  \n",
       "50%       -1.000000      0.000000  \n",
       "75%       -1.000000      0.000000  \n",
       "max      871.000000    275.000000  "
      ]
     },
     "execution_count": 9,
     "metadata": {},
     "output_type": "execute_result"
    }
   ],
   "source": [
    "bank.describe()"
   ]
  },
  {
   "cell_type": "code",
   "execution_count": 10,
   "id": "7340c307",
   "metadata": {
    "ExecuteTime": {
     "end_time": "2022-08-06T14:37:25.849968Z",
     "start_time": "2022-08-06T14:37:25.835067Z"
    },
    "scrolled": true
   },
   "outputs": [
    {
     "data": {
      "text/plain": [
       "no     39922\n",
       "yes     5289\n",
       "Name: y, dtype: int64"
      ]
     },
     "execution_count": 10,
     "metadata": {},
     "output_type": "execute_result"
    }
   ],
   "source": [
    "bank.y.value_counts()"
   ]
  },
  {
   "cell_type": "markdown",
   "id": "2979da30",
   "metadata": {},
   "source": [
    "#### Analysis"
   ]
  },
  {
   "cell_type": "code",
   "execution_count": 64,
   "id": "9918bb3e",
   "metadata": {
    "ExecuteTime": {
     "end_time": "2022-08-06T15:32:04.154282Z",
     "start_time": "2022-08-06T15:32:03.684076Z"
    }
   },
   "outputs": [
    {
     "data": {
      "text/plain": [
       "Text(0.5, 1.0, 'Age count')"
      ]
     },
     "execution_count": 64,
     "metadata": {},
     "output_type": "execute_result"
    },
    {
     "data": {
      "image/png": "[encoded data removed]",
      "text/plain": [
       "<Figure size 720x360 with 1 Axes>"
      ]
     },
     "metadata": {
      "needs_background": "light"
     },
     "output_type": "display_data"
    }
   ],
   "source": [
    "plt.figure(figsize=(10,5))\n",
    "sns.distplot(bank['age'],color='blue');\n",
    "plt.xlabel('Age')\n",
    "plt.title('Age count')"
   ]
  },
  {
   "cell_type": "code",
   "execution_count": 86,
   "id": "7f7d3297",
   "metadata": {
    "ExecuteTime": {
     "end_time": "2022-08-06T15:46:18.989375Z",
     "start_time": "2022-08-06T15:46:18.140761Z"
    }
   },
   "outputs": [
    {
     "data": {
      "text/plain": [
       "<AxesSubplot:xlabel='y', ylabel='balance'>"
      ]
     },
     "execution_count": 86,
     "metadata": {},
     "output_type": "execute_result"
    },
    {
     "data": {
      "image/png": "[encoded data removed]",
      "text/plain": [
       "<Figure size 720x576 with 1 Axes>"
      ]
     },
     "metadata": {
      "needs_background": "light"
     },
     "output_type": "display_data"
    }
   ],
   "source": [
    "plt.figure(figsize=(10,8))\n",
    "sns.barplot(x='y',y='balance',data=bank)"
   ]
  },
  {
   "cell_type": "code",
   "execution_count": 97,
   "id": "4fac865e",
   "metadata": {
    "ExecuteTime": {
     "end_time": "2022-08-06T15:50:18.281454Z",
     "start_time": "2022-08-06T15:50:17.093766Z"
    }
   },
   "outputs": [
    {
     "data": {
      "text/plain": [
       "<AxesSubplot:xlabel='education', ylabel='balance'>"
      ]
     },
     "execution_count": 97,
     "metadata": {},
     "output_type": "execute_result"
    },
    {
     "data": {
      "image/png": "[encoded data removed]",
      "text/plain": [
       "<Figure size 720x576 with 1 Axes>"
      ]
     },
     "metadata": {
      "needs_background": "light"
     },
     "output_type": "display_data"
    }
   ],
   "source": [
    "plt.figure(figsize=(10,8))\n",
    "sns.barplot(x='education',y='balance',hue ='y',data=bank,palette='coolwarm_r')"
   ]
  },
  {
   "cell_type": "code",
   "execution_count": 98,
   "id": "5edbd33a",
   "metadata": {
    "ExecuteTime": {
     "end_time": "2022-08-06T15:50:27.958568Z",
     "start_time": "2022-08-06T15:50:26.841500Z"
    }
   },
   "outputs": [
    {
     "data": {
      "text/plain": [
       "<AxesSubplot:xlabel='marital', ylabel='balance'>"
      ]
     },
     "execution_count": 98,
     "metadata": {},
     "output_type": "execute_result"
    },
    {
     "data": {
      "image/png": "[encoded data removed]",
      "text/plain": [
       "<Figure size 720x576 with 1 Axes>"
      ]
     },
     "metadata": {
      "needs_background": "light"
     },
     "output_type": "display_data"
    }
   ],
   "source": [
    "plt.figure(figsize=(10,8))\n",
    "sns.barplot(x='marital',y='balance',hue ='y',data=bank,palette='coolwarm_r')"
   ]
  },
  {
   "cell_type": "code",
   "execution_count": 100,
   "id": "a7ae7398",
   "metadata": {
    "ExecuteTime": {
     "end_time": "2022-08-06T15:52:21.753505Z",
     "start_time": "2022-08-06T15:52:20.871861Z"
    }
   },
   "outputs": [
    {
     "data": {
      "text/plain": [
       "<AxesSubplot:xlabel='loan', ylabel='balance'>"
      ]
     },
     "execution_count": 100,
     "metadata": {},
     "output_type": "execute_result"
    },
    {
     "data": {
      "image/png": "[encoded data removed]",
      "text/plain": [
       "<Figure size 720x576 with 1 Axes>"
      ]
     },
     "metadata": {
      "needs_background": "light"
     },
     "output_type": "display_data"
    }
   ],
   "source": [
    "plt.figure(figsize=(10,8))\n",
    "sns.barplot(x='loan',y='balance',hue ='y',data=bank,palette='coolwarm_r')"
   ]
  },
  {
   "cell_type": "markdown",
   "id": "3ea9412e",
   "metadata": {},
   "source": [
    "#### Data preparation"
   ]
  },
  {
   "cell_type": "code",
   "execution_count": 103,
   "id": "49114d02",
   "metadata": {
    "ExecuteTime": {
     "end_time": "2022-08-06T15:53:34.660366Z",
     "start_time": "2022-08-06T15:53:34.428284Z"
    },
    "code_folding": []
   },
   "outputs": [],
   "source": [
    "#factorizing dataset by replacing \n",
    "bank.contact.replace(('cellular','unknown','telephone'),(0,1,2),inplace=True)\n",
    "bank.job.replace(['management', 'technician', 'entrepreneur', 'blue-collar',\n",
    "       'unknown', 'retired', 'admin.', 'services', 'self-employed',\n",
    "       'unemployed', 'housemaid', 'student'],[0,1,2,3,4,5,6,7,8,9,10,11],inplace=True)\n",
    "bank.marital.replace(['married', 'single', 'divorced'],[0,1,2],inplace=True)\n",
    "bank.education.replace(['tertiary', 'secondary', 'unknown', 'primary'],[0,1,2,3],inplace=True)\n",
    "bank.poutcome.replace(['unknown', 'failure', 'other', 'success'],[0,1,2,3],inplace=True)\n",
    "bank.default.replace(('yes','no'),(1,0),inplace=True)\n",
    "bank.housing.replace(('yes','no'),(1,0),inplace=True)\n",
    "bank.loan.replace(('yes','no'),(1,0),inplace=True)\n",
    "bank.y.replace(('yes','no'),(1,0),inplace=True)\n",
    "bank.month.replace(['jan','feb','mar','apr','may','jun','jul','aug','sep','oct','nov','dec'],[0,1,2,3,4,5,6,7,8,9,10,11],inplace=True)"
   ]
  },
  {
   "cell_type": "markdown",
   "id": "5ebaad80",
   "metadata": {},
   "source": [
    "#### model preparation"
   ]
  },
  {
   "cell_type": "code",
   "execution_count": 104,
   "id": "d810fb6d",
   "metadata": {
    "ExecuteTime": {
     "end_time": "2022-08-06T15:53:35.993756Z",
     "start_time": "2022-08-06T15:53:35.974117Z"
    }
   },
   "outputs": [],
   "source": [
    "#seperating X and Y \n",
    "X = bank.drop(\"y\",axis=1)\n",
    "Y = bank.y\n"
   ]
  },
  {
   "cell_type": "code",
   "execution_count": 106,
   "id": "33a09809",
   "metadata": {
    "ExecuteTime": {
     "end_time": "2022-08-06T15:53:41.812903Z",
     "start_time": "2022-08-06T15:53:41.779326Z"
    }
   },
   "outputs": [],
   "source": [
    "scaler = StandardScaler()\n",
    "scaler_x = scaler.fit_transform(X)\n",
    "# scaler_x = scaler.transform(train_x)"
   ]
  },
  {
   "cell_type": "code",
   "execution_count": 107,
   "id": "ad14060a",
   "metadata": {
    "ExecuteTime": {
     "end_time": "2022-08-06T15:53:42.663725Z",
     "start_time": "2022-08-06T15:53:42.616528Z"
    }
   },
   "outputs": [],
   "source": [
    "#train teat split\n",
    "train_x, test_x, train_y, test_y = train_test_split(scaler_x , Y, test_size=0.2,random_state=42,stratify=Y)"
   ]
  },
  {
   "cell_type": "code",
   "execution_count": 108,
   "id": "0683a83b",
   "metadata": {
    "ExecuteTime": {
     "end_time": "2022-08-06T15:53:44.840910Z",
     "start_time": "2022-08-06T15:53:44.830846Z"
    }
   },
   "outputs": [
    {
     "data": {
      "text/plain": [
       "array([[-0.08816664, -0.16981295, -0.74066636, ..., -0.41145311,\n",
       "        -0.25194037, -0.41528717],\n",
       "       [ 0.28852927, -0.81532633, -0.74066636, ..., -0.41145311,\n",
       "        -0.25194037, -0.41528717],\n",
       "       [-0.93573244,  1.12121381, -0.74066636, ..., -0.41145311,\n",
       "        -0.25194037, -0.41528717],\n",
       "       ...,\n",
       "       [-0.84155846, -0.49256964, -0.74066636, ..., -0.41145311,\n",
       "        -0.25194037, -0.41528717],\n",
       "       [-1.97164619,  2.41224057,  0.70245839, ...,  1.41621408,\n",
       "         1.48461123,  1.01643071],\n",
       "       [-0.18234062, -1.13808302, -0.74066636, ...,  1.6858699 ,\n",
       "         0.18219753,  1.01643071]])"
      ]
     },
     "execution_count": 108,
     "metadata": {},
     "output_type": "execute_result"
    }
   ],
   "source": [
    "test_x"
   ]
  },
  {
   "cell_type": "code",
   "execution_count": 112,
   "id": "d1fe4385",
   "metadata": {
    "ExecuteTime": {
     "end_time": "2022-08-06T15:54:22.418316Z",
     "start_time": "2022-08-06T15:54:22.327083Z"
    }
   },
   "outputs": [
    {
     "data": {
      "text/plain": [
       "LogisticRegression()"
      ]
     },
     "execution_count": 112,
     "metadata": {},
     "output_type": "execute_result"
    }
   ],
   "source": [
    "logit = LogisticRegression()\n",
    "logit.fit(train_x, train_y)"
   ]
  },
  {
   "cell_type": "code",
   "execution_count": 113,
   "id": "e3f81ba3",
   "metadata": {
    "ExecuteTime": {
     "end_time": "2022-08-06T15:54:33.377548Z",
     "start_time": "2022-08-06T15:54:33.360768Z"
    }
   },
   "outputs": [
    {
     "data": {
      "text/plain": [
       "0.8991650077416501"
      ]
     },
     "execution_count": 113,
     "metadata": {},
     "output_type": "execute_result"
    }
   ],
   "source": [
    "logit.score(train_x, train_y)"
   ]
  },
  {
   "cell_type": "code",
   "execution_count": 114,
   "id": "0794c984",
   "metadata": {
    "ExecuteTime": {
     "end_time": "2022-08-06T15:54:49.716304Z",
     "start_time": "2022-08-06T15:54:49.700084Z"
    }
   },
   "outputs": [
    {
     "data": {
      "text/plain": [
       "0.8994802609753401"
      ]
     },
     "execution_count": 114,
     "metadata": {},
     "output_type": "execute_result"
    }
   ],
   "source": [
    "logit.score(test_x, test_y)"
   ]
  },
  {
   "cell_type": "code",
   "execution_count": 115,
   "id": "4b9dfd2e",
   "metadata": {
    "ExecuteTime": {
     "end_time": "2022-08-06T15:55:18.744076Z",
     "start_time": "2022-08-06T15:55:18.731798Z"
    }
   },
   "outputs": [],
   "source": [
    "pred = logit.predict(train_x)\n",
    "pred_test = logit.predict(test_x)"
   ]
  },
  {
   "cell_type": "code",
   "execution_count": 116,
   "id": "0b03b673",
   "metadata": {
    "ExecuteTime": {
     "end_time": "2022-08-06T15:55:20.836567Z",
     "start_time": "2022-08-06T15:55:20.820909Z"
    }
   },
   "outputs": [
    {
     "data": {
      "text/plain": [
       "0    31937\n",
       "1     4231\n",
       "Name: y, dtype: int64"
      ]
     },
     "execution_count": 116,
     "metadata": {},
     "output_type": "execute_result"
    }
   ],
   "source": [
    "train_y.value_counts()"
   ]
  },
  {
   "cell_type": "markdown",
   "id": "ebfebc50",
   "metadata": {},
   "source": [
    "#### confusion matrix and model evaluation"
   ]
  },
  {
   "cell_type": "code",
   "execution_count": 121,
   "id": "50dd6842",
   "metadata": {
    "ExecuteTime": {
     "end_time": "2022-08-06T15:56:52.219276Z",
     "start_time": "2022-08-06T15:56:52.184064Z"
    },
    "scrolled": true
   },
   "outputs": [
    {
     "data": {
      "text/plain": [
       "array([[7811,  174],\n",
       "       [ 735,  323]])"
      ]
     },
     "execution_count": 121,
     "metadata": {},
     "output_type": "execute_result"
    }
   ],
   "source": [
    "confusion_matrix(y_pred=pred_test,y_true=test_y)"
   ]
  },
  {
   "cell_type": "code",
   "execution_count": 122,
   "id": "c632b1a7",
   "metadata": {
    "ExecuteTime": {
     "end_time": "2022-08-06T15:57:13.381450Z",
     "start_time": "2022-08-06T15:57:13.357060Z"
    },
    "scrolled": true
   },
   "outputs": [
    {
     "name": "stdout",
     "output_type": "stream",
     "text": [
      "              precision    recall  f1-score   support\n",
      "\n",
      "           0       0.91      0.98      0.95      7985\n",
      "           1       0.65      0.31      0.42      1058\n",
      "\n",
      "    accuracy                           0.90      9043\n",
      "   macro avg       0.78      0.64      0.68      9043\n",
      "weighted avg       0.88      0.90      0.88      9043\n",
      "\n"
     ]
    }
   ],
   "source": [
    "print(classification_report(test_y, pred_test))"
   ]
  },
  {
   "cell_type": "code",
   "execution_count": 123,
   "id": "948a4827",
   "metadata": {
    "ExecuteTime": {
     "end_time": "2022-08-06T15:57:27.421895Z",
     "start_time": "2022-08-06T15:57:27.403161Z"
    }
   },
   "outputs": [
    {
     "data": {
      "text/plain": [
       "0.6417510739062964"
      ]
     },
     "execution_count": 123,
     "metadata": {},
     "output_type": "execute_result"
    }
   ],
   "source": [
    "pred_prob = logit.predict_proba(test_x)\n",
    "prob = pred_prob[:, 1]\n",
    "Logit_roc_score = roc_auc_score(test_y, logit.predict(test_x))\n",
    "Logit_roc_score"
   ]
  },
  {
   "cell_type": "markdown",
   "id": "a0ef9b8d",
   "metadata": {},
   "source": [
    "##### ROC curve"
   ]
  },
  {
   "cell_type": "code",
   "execution_count": 120,
   "id": "ac57f8e6",
   "metadata": {
    "ExecuteTime": {
     "end_time": "2022-08-06T15:56:26.074914Z",
     "start_time": "2022-08-06T15:56:25.868943Z"
    }
   },
   "outputs": [
    {
     "data": {
      "image/png": "[encoded data removed]",
      "text/plain": [
       "<Figure size 864x576 with 1 Axes>"
      ]
     },
     "metadata": {
      "needs_background": "light"
     },
     "output_type": "display_data"
    }
   ],
   "source": [
    "plt.subplots(figsize=[12, 8])\n",
    "fpr, tpr, thresholds = roc_curve(test_y, prob)\n",
    "plt.plot(fpr, tpr, color=\"red\", label=\"logistic regression(area=%0.2f)\"% Logit_roc_score)\n",
    "plt.plot([0, 1], [0, 1], 'b--')\n",
    "plt.xlabel(\"False Positive Rate\")\n",
    "plt.ylabel('True Positive Rate')\n",
    "plt.title('Receiver operating characteristic')\n",
    "plt.legend(loc=\"lower right\")\n",
    "plt.show()"
   ]
  },
  {
   "cell_type": "code",
   "execution_count": null,
   "id": "d7e03ec8",
   "metadata": {},
   "outputs": [],
   "source": []
  }
 ],
 "metadata": {
  "kernelspec": {
   "display_name": "Python 3 (ipykernel)",
   "language": "python",
   "name": "python3"
  },
  "language_info": {
   "codemirror_mode": {
    "name": "ipython",
    "version": 3
   },
   "file_extension": ".py",
   "mimetype": "text/x-python",
   "name": "python",
   "nbconvert_exporter": "python",
   "pygments_lexer": "ipython3",
   "version": "3.9.7"
  },
  "latex_envs": {
   "LaTeX_envs_menu_present": true,
   "autoclose": true,
   "autocomplete": true,
   "bibliofile": "biblio.bib",
   "cite_by": "apalike",
   "current_citInitial": 1,
   "eqLabelWithNumbers": true,
   "eqNumInitial": 1,
   "hotkeys": {
    "equation": "Ctrl-E",
    "itemize": "Ctrl-I"
   },
   "labels_anchors": false,
   "latex_user_defs": false,
   "report_style_numbering": false,
   "user_envs_cfg": false
  },
  "varInspector": {
   "cols": {
    "lenName": 16,
    "lenType": 16,
    "lenVar": 40
   },
   "kernels_config": {
    "python": {
     "delete_cmd_postfix": "",
     "delete_cmd_prefix": "del ",
     "library": "var_list.py",
     "varRefreshCmd": "print(var_dic_list())"
    },
    "r": {
     "delete_cmd_postfix": ") ",
     "delete_cmd_prefix": "rm(",
     "library": "var_list.r",
     "varRefreshCmd": "cat(var_dic_list()) "
    }
   },
   "types_to_exclude": [
    "module",
    "function",
    "builtin_function_or_method",
    "instance",
    "_Feature"
   ],
   "window_display": false
  }
 },
 "nbformat": 4,
 "nbformat_minor": 5
}
